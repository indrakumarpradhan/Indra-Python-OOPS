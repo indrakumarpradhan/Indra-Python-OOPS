{
 "cells": [
  {
   "cell_type": "code",
   "execution_count": 22,
   "id": "7d085258",
   "metadata": {},
   "outputs": [],
   "source": [
    "class car():\n",
    "    def __init__(self,color,model,make):\n",
    "        self.color = color\n",
    "        self.model = model\n",
    "        self.make = make\n",
    "    def accelerate(self):\n",
    "        print('The car is accelerating')\n",
    "    def brake(self):\n",
    "        print('The car is braking')"
   ]
  },
  {
   "cell_type": "code",
   "execution_count": 26,
   "id": "0ed66804",
   "metadata": {},
   "outputs": [],
   "source": [
    "my_car = car('Red','Ferrari','488GTB')"
   ]
  },
  {
   "cell_type": "code",
   "execution_count": 27,
   "id": "995d7153",
   "metadata": {},
   "outputs": [
    {
     "name": "stdout",
     "output_type": "stream",
     "text": [
      "Red\n"
     ]
    }
   ],
   "source": [
    "print(my_car.color)"
   ]
  },
  {
   "cell_type": "raw",
   "id": "28e14372",
   "metadata": {},
   "source": []
  },
  {
   "cell_type": "code",
   "execution_count": 29,
   "id": "a09143a9",
   "metadata": {},
   "outputs": [
    {
     "data": {
      "text/plain": [
       "'488GTB'"
      ]
     },
     "execution_count": 29,
     "metadata": {},
     "output_type": "execute_result"
    }
   ],
   "source": [
    "my_car.make\n"
   ]
  },
  {
   "cell_type": "code",
   "execution_count": 33,
   "id": "ff25ee29",
   "metadata": {},
   "outputs": [
    {
     "name": "stdout",
     "output_type": "stream",
     "text": [
      "The car is accelerating\n"
     ]
    }
   ],
   "source": [
    "my_car.accelerate()"
   ]
  },
  {
   "cell_type": "raw",
   "id": "f703744b",
   "metadata": {},
   "source": []
  },
  {
   "cell_type": "code",
   "execution_count": 34,
   "id": "a88d0d42",
   "metadata": {},
   "outputs": [
    {
     "name": "stdout",
     "output_type": "stream",
     "text": [
      "The car is braking\n"
     ]
    }
   ],
   "source": [
    "my_car.brake()"
   ]
  },
  {
   "cell_type": "code",
   "execution_count": 35,
   "id": "4bc87d3b",
   "metadata": {},
   "outputs": [],
   "source": [
    "my_list =[1,2,3]"
   ]
  },
  {
   "cell_type": "code",
   "execution_count": 36,
   "id": "824cde67",
   "metadata": {},
   "outputs": [
    {
     "data": {
      "text/plain": [
       "[1, 2, 3]"
      ]
     },
     "execution_count": 36,
     "metadata": {},
     "output_type": "execute_result"
    }
   ],
   "source": [
    "my_list"
   ]
  },
  {
   "cell_type": "code",
   "execution_count": 37,
   "id": "2dd41a82",
   "metadata": {},
   "outputs": [],
   "source": [
    "myset = [1,2,3,4,4,5,5,]"
   ]
  },
  {
   "cell_type": "code",
   "execution_count": 39,
   "id": "36b260fa",
   "metadata": {},
   "outputs": [
    {
     "data": {
      "text/plain": [
       "[1, 2, 3, 4, 4, 5, 5]"
      ]
     },
     "execution_count": 39,
     "metadata": {},
     "output_type": "execute_result"
    }
   ],
   "source": [
    "myset"
   ]
  },
  {
   "cell_type": "code",
   "execution_count": 40,
   "id": "2fadcb25",
   "metadata": {},
   "outputs": [],
   "source": [
    "class sample():\n",
    "    pass"
   ]
  },
  {
   "cell_type": "code",
   "execution_count": 41,
   "id": "cf9cf87f",
   "metadata": {},
   "outputs": [],
   "source": [
    "my_sample = sample()"
   ]
  },
  {
   "cell_type": "code",
   "execution_count": 42,
   "id": "0bff42ce",
   "metadata": {},
   "outputs": [
    {
     "data": {
      "text/plain": [
       "__main__.sample"
      ]
     },
     "execution_count": 42,
     "metadata": {},
     "output_type": "execute_result"
    }
   ],
   "source": [
    "type(my_sample)"
   ]
  },
  {
   "cell_type": "code",
   "execution_count": 43,
   "id": "5f816114",
   "metadata": {},
   "outputs": [],
   "source": [
    "class Dog():\n",
    "    def __init__(self,breed):\n",
    "        self.breed = breed"
   ]
  },
  {
   "cell_type": "code",
   "execution_count": 44,
   "id": "7cbacb58",
   "metadata": {},
   "outputs": [],
   "source": [
    "my_dog = Dog('Lab')"
   ]
  },
  {
   "cell_type": "code",
   "execution_count": 45,
   "id": "5c8cd737",
   "metadata": {},
   "outputs": [
    {
     "data": {
      "text/plain": [
       "__main__.Dog"
      ]
     },
     "execution_count": 45,
     "metadata": {},
     "output_type": "execute_result"
    }
   ],
   "source": [
    "type(my_dog)"
   ]
  },
  {
   "cell_type": "code",
   "execution_count": 46,
   "id": "cfdfb3ec",
   "metadata": {},
   "outputs": [
    {
     "data": {
      "text/plain": [
       "'Lab'"
      ]
     },
     "execution_count": 46,
     "metadata": {},
     "output_type": "execute_result"
    }
   ],
   "source": [
    "my_dog.breed"
   ]
  },
  {
   "cell_type": "code",
   "execution_count": 61,
   "id": "df8bb29f",
   "metadata": {},
   "outputs": [],
   "source": [
    "class Dog():\n",
    "    #attributes\n",
    "    #we take in the argument\n",
    "    #assign it to self.attribute\n",
    "    def __init__(self,mybreed):\n",
    "        self.breed = mybreed"
   ]
  },
  {
   "cell_type": "code",
   "execution_count": 62,
   "id": "289ff3e0",
   "metadata": {},
   "outputs": [],
   "source": [
    "my_dog = Dog('Huskie')"
   ]
  },
  {
   "cell_type": "code",
   "execution_count": 64,
   "id": "3820b9e1",
   "metadata": {},
   "outputs": [
    {
     "data": {
      "text/plain": [
       "'Huskie'"
      ]
     },
     "execution_count": 64,
     "metadata": {},
     "output_type": "execute_result"
    }
   ],
   "source": [
    "my_dog.breed"
   ]
  },
  {
   "cell_type": "code",
   "execution_count": 66,
   "id": "b51d5b3f",
   "metadata": {},
   "outputs": [],
   "source": [
    "class Dog():\n",
    "    #attributes\n",
    "    #we take in the argument\n",
    "    #assign it to self.attribute\n",
    "    def __init__(self,mybreed):\n",
    "        self.my_attribute = mybreed\n",
    "    "
   ]
  },
  {
   "cell_type": "code",
   "execution_count": 67,
   "id": "d0ea4a77",
   "metadata": {},
   "outputs": [],
   "source": [
    "my_dog = Dog('Lab')"
   ]
  },
  {
   "cell_type": "code",
   "execution_count": 69,
   "id": "1588d7d2",
   "metadata": {},
   "outputs": [
    {
     "data": {
      "text/plain": [
       "'Lab'"
      ]
     },
     "execution_count": 69,
     "metadata": {},
     "output_type": "execute_result"
    }
   ],
   "source": [
    "my_dog.my_attribute"
   ]
  },
  {
   "cell_type": "code",
   "execution_count": 70,
   "id": "3209c8c3",
   "metadata": {},
   "outputs": [],
   "source": [
    "class Dog():\n",
    "    def __init__(self,breed,name,spots):\n",
    "        self.breed = breed\n",
    "        self.name = name\n",
    "        #expecting a boolean\n",
    "        self.spots = spots"
   ]
  },
  {
   "cell_type": "code",
   "execution_count": 72,
   "id": "b3020c58",
   "metadata": {},
   "outputs": [],
   "source": [
    "my_dog = Dog(breed = 'Huskie',name = 'Frankie',spots =False)"
   ]
  },
  {
   "cell_type": "code",
   "execution_count": 74,
   "id": "0859fde1",
   "metadata": {},
   "outputs": [
    {
     "data": {
      "text/plain": [
       "__main__.Dog"
      ]
     },
     "execution_count": 74,
     "metadata": {},
     "output_type": "execute_result"
    }
   ],
   "source": [
    "type(my_dog)"
   ]
  },
  {
   "cell_type": "code",
   "execution_count": 75,
   "id": "c52eaa95",
   "metadata": {},
   "outputs": [
    {
     "data": {
      "text/plain": [
       "'Huskie'"
      ]
     },
     "execution_count": 75,
     "metadata": {},
     "output_type": "execute_result"
    }
   ],
   "source": [
    "my_dog.breed"
   ]
  },
  {
   "cell_type": "code",
   "execution_count": 76,
   "id": "1e481e70",
   "metadata": {},
   "outputs": [
    {
     "data": {
      "text/plain": [
       "'Frankie'"
      ]
     },
     "execution_count": 76,
     "metadata": {},
     "output_type": "execute_result"
    }
   ],
   "source": [
    "my_dog.name"
   ]
  },
  {
   "cell_type": "code",
   "execution_count": 77,
   "id": "288974bf",
   "metadata": {},
   "outputs": [
    {
     "data": {
      "text/plain": [
       "False"
      ]
     },
     "execution_count": 77,
     "metadata": {},
     "output_type": "execute_result"
    }
   ],
   "source": [
    "my_dog.spots"
   ]
  },
  {
   "cell_type": "code",
   "execution_count": 78,
   "id": "88e29ac4",
   "metadata": {},
   "outputs": [],
   "source": [
    "my_dog = Dog(breed = 'Huskie',name = 'Frankie',spots = 'NO SPOTS')"
   ]
  },
  {
   "cell_type": "code",
   "execution_count": 79,
   "id": "cc97cf84",
   "metadata": {},
   "outputs": [
    {
     "data": {
      "text/plain": [
       "'NO SPOTS'"
      ]
     },
     "execution_count": 79,
     "metadata": {},
     "output_type": "execute_result"
    }
   ],
   "source": [
    "my_dog.spots"
   ]
  },
  {
   "cell_type": "code",
   "execution_count": 81,
   "id": "dc1256fd",
   "metadata": {},
   "outputs": [],
   "source": [
    "class PC():\n",
    "    def __init__(self,model,make):\n",
    "        self.model = model\n",
    "        self.make = make\n",
    "    def processor(self):\n",
    "        print('The processor is good')\n",
    "    def sensitivity(self):\n",
    "        print('The touch sensitivity is well good')"
   ]
  },
  {
   "cell_type": "code",
   "execution_count": 82,
   "id": "f7e24a72",
   "metadata": {},
   "outputs": [],
   "source": [
    "my_pc = PC('Asus','ASUSTek Computer Inc')"
   ]
  },
  {
   "cell_type": "code",
   "execution_count": 83,
   "id": "f0c5bf78",
   "metadata": {},
   "outputs": [
    {
     "data": {
      "text/plain": [
       "'Asus'"
      ]
     },
     "execution_count": 83,
     "metadata": {},
     "output_type": "execute_result"
    }
   ],
   "source": [
    "my_pc.model"
   ]
  },
  {
   "cell_type": "code",
   "execution_count": 84,
   "id": "69795125",
   "metadata": {},
   "outputs": [
    {
     "data": {
      "text/plain": [
       "'ASUSTek Computer Inc'"
      ]
     },
     "execution_count": 84,
     "metadata": {},
     "output_type": "execute_result"
    }
   ],
   "source": [
    "my_pc.make"
   ]
  },
  {
   "cell_type": "code",
   "execution_count": null,
   "id": "c25efab4",
   "metadata": {},
   "outputs": [],
   "source": []
  }
 ],
 "metadata": {
  "kernelspec": {
   "display_name": "Python 3 (ipykernel)",
   "language": "python",
   "name": "python3"
  },
  "language_info": {
   "codemirror_mode": {
    "name": "ipython",
    "version": 3
   },
   "file_extension": ".py",
   "mimetype": "text/x-python",
   "name": "python",
   "nbconvert_exporter": "python",
   "pygments_lexer": "ipython3",
   "version": "3.9.12"
  }
 },
 "nbformat": 4,
 "nbformat_minor": 5
}
